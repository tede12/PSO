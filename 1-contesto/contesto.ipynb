{
 "cells": [
  {
   "cell_type": "markdown",
   "source": [
    "# Contesto"
   ],
   "metadata": {
    "collapsed": false
   }
  },
  {
   "cell_type": "markdown",
   "source": [
    " Importo il file main.py con le definizioni di mia_funzione e mia_funzione_interna"
   ],
   "metadata": {
    "collapsed": false
   }
  },
  {
   "cell_type": "code",
   "execution_count": 39,
   "outputs": [],
   "source": [
    "from main import *"
   ],
   "metadata": {
    "collapsed": false
   }
  },
  {
   "cell_type": "markdown",
   "source": [
    "### Codice Oggetto"
   ],
   "metadata": {
    "collapsed": false
   }
  },
  {
   "cell_type": "code",
   "execution_count": 40,
   "outputs": [
    {
     "data": {
      "text/plain": "<code object mia_funzione at 0x1038882f0, file \"/Users/marcotedeschini/PycharmProjects/PSO/codice_tesina/1-contesto/main.py\", line 1>"
     },
     "execution_count": 40,
     "metadata": {},
     "output_type": "execute_result"
    }
   ],
   "source": [
    "# mia_funzione è la funzione definita nel file main.py\n",
    "# Con __code__ otteniamo l’oggetto contenente le informazioni del codice oggetto della variabile a cui è legato\n",
    "mia_funzione.__code__"
   ],
   "metadata": {
    "collapsed": false
   }
  },
  {
   "cell_type": "code",
   "execution_count": 41,
   "outputs": [
    {
     "data": {
      "text/plain": "(None,\n 1,\n <code object mia_funzione_interna at 0x103888240, file \"/Users/marcotedeschini/PycharmProjects/PSO/codice_tesina/1-contesto/main.py\", line 4>,\n 'mia_funzione.<locals>.mia_funzione_interna')"
     },
     "execution_count": 41,
     "metadata": {},
     "output_type": "execute_result"
    }
   ],
   "source": [
    "# co_consts restituisce una tupla contenente i letterali utilizzati dal bytecode\n",
    "mia_funzione.__code__.co_consts"
   ],
   "metadata": {
    "collapsed": false
   }
  },
  {
   "cell_type": "code",
   "execution_count": 42,
   "outputs": [
    {
     "data": {
      "text/plain": "('string', 'mia_funzione_interna')"
     },
     "execution_count": 42,
     "metadata": {},
     "output_type": "execute_result"
    }
   ],
   "source": [
    "# co_varnames restituisce una tupla contenente i nomi utilizzati dal bytecode, che possono essere variabili globali, funzioni e classi o attributi caricati dagli oggetti.\n",
    "mia_funzione.__code__.co_varnames"
   ],
   "metadata": {
    "collapsed": false
   }
  },
  {
   "cell_type": "code",
   "execution_count": 43,
   "outputs": [
    {
     "data": {
      "text/plain": "'mia_funzione'"
     },
     "execution_count": 43,
     "metadata": {},
     "output_type": "execute_result"
    }
   ],
   "source": [
    "# co_name restituisce il nome della funzione\n",
    "mia_funzione.__code__.co_name"
   ],
   "metadata": {
    "collapsed": false
   }
  },
  {
   "cell_type": "code",
   "execution_count": 44,
   "outputs": [
    {
     "data": {
      "text/plain": "('a', 'string')"
     },
     "execution_count": 44,
     "metadata": {},
     "output_type": "execute_result"
    }
   ],
   "source": [
    "# co_cellvars restituisce una tupla contenente i nomi delle variabili non locali. Queste sono le variabili locali di una funzione a cui si accede dalle sue funzioni interne.\n",
    "mia_funzione.__code__.co_cellvars"
   ],
   "metadata": {
    "collapsed": false
   }
  },
  {
   "cell_type": "code",
   "execution_count": 45,
   "outputs": [
    {
     "data": {
      "text/plain": "b'd\\x01\\x89\\x00\\x87\\x00\\x87\\x01f\\x02d\\x02d\\x03\\x84\\x08}\\x01|\\x01\\x83\\x00S\\x00'"
     },
     "execution_count": 45,
     "metadata": {},
     "output_type": "execute_result"
    }
   ],
   "source": [
    "# co_code ritorna il bytecode memorizzato in esadecimale\n",
    "mia_funzione.__code__.co_code"
   ],
   "metadata": {
    "collapsed": false
   }
  },
  {
   "cell_type": "markdown",
   "source": [],
   "metadata": {
    "collapsed": false
   }
  },
  {
   "cell_type": "markdown",
   "source": [
    "### Compilazione del bytecode"
   ],
   "metadata": {
    "collapsed": false
   }
  },
  {
   "cell_type": "code",
   "execution_count": 46,
   "outputs": [
    {
     "data": {
      "text/plain": "<code object <module> at 0x103a56a80, file \"main.pyc\", line 1>"
     },
     "execution_count": 46,
     "metadata": {},
     "output_type": "execute_result"
    }
   ],
   "source": [
    "compile(\"main.py\", \"main.pyc\", \"exec\")"
   ],
   "metadata": {
    "collapsed": false
   }
  },
  {
   "cell_type": "markdown",
   "source": [
    "Generazione del file .pyc"
   ],
   "metadata": {
    "collapsed": false
   }
  },
  {
   "cell_type": "code",
   "execution_count": 47,
   "outputs": [],
   "source": [
    "!python -m compileall main.py"
   ],
   "metadata": {
    "collapsed": false
   }
  },
  {
   "cell_type": "code",
   "execution_count": 48,
   "outputs": [
    {
     "name": "stdout",
     "output_type": "stream",
     "text": [
      "cat: __pycache__/main.cpython-39.pyc: No such file or directory\r\n"
     ]
    }
   ],
   "source": [
    "!cat __pycache__/main.cpython-39.pyc  #"
   ],
   "metadata": {
    "collapsed": false
   }
  },
  {
   "cell_type": "markdown",
   "source": [
    "### Esecuzione del bytecode"
   ],
   "metadata": {
    "collapsed": false
   }
  },
  {
   "cell_type": "code",
   "execution_count": 57,
   "outputs": [
    {
     "name": "stdout",
     "output_type": "stream",
     "text": [
      "[FrameInfo(frame=<frame at 0x1039268b0, file '/var/folders/fw/b1w4bs513bvfksm1tm6f03w80000gn/T/ipykernel_77530/566743791.py', line 7, code mia_funzione_interna>, filename='/var/folders/fw/b1w4bs513bvfksm1tm6f03w80000gn/T/ipykernel_77530/566743791.py', lineno=7, function='mia_funzione_interna', code_context=['        print(inspect.stack())  # stampo i frame inseriti nello stack fino a questo punto\\n'], index=0), FrameInfo(frame=<frame at 0x103928900, file '/var/folders/fw/b1w4bs513bvfksm1tm6f03w80000gn/T/ipykernel_77530/566743791.py', line 10, code mia_funzione>, filename='/var/folders/fw/b1w4bs513bvfksm1tm6f03w80000gn/T/ipykernel_77530/566743791.py', lineno=10, function='mia_funzione', code_context=['    return mia_funzione_interna()\\n'], index=0), FrameInfo(frame=<frame at 0x103a6a040, file '/var/folders/fw/b1w4bs513bvfksm1tm6f03w80000gn/T/ipykernel_77530/566743791.py', line 13, code <module>>, filename='/var/folders/fw/b1w4bs513bvfksm1tm6f03w80000gn/T/ipykernel_77530/566743791.py', lineno=13, function='<module>', code_context=['mia_funzione(\"hello\")\\n'], index=0), FrameInfo(frame=<frame at 0x13f6416f0, file '/Users/marcotedeschini/PycharmProjects/PSO/venv/lib/python3.9/site-packages/IPython/core/interactiveshell.py', line 3433, code run_code>, filename='/Users/marcotedeschini/PycharmProjects/PSO/venv/lib/python3.9/site-packages/IPython/core/interactiveshell.py', lineno=3433, function='run_code', code_context=['                    exec(code_obj, self.user_global_ns, self.user_ns)\\n'], index=0), FrameInfo(frame=<frame at 0x13f790c10, file '/Users/marcotedeschini/PycharmProjects/PSO/venv/lib/python3.9/site-packages/IPython/core/interactiveshell.py', line 3373, code run_ast_nodes>, filename='/Users/marcotedeschini/PycharmProjects/PSO/venv/lib/python3.9/site-packages/IPython/core/interactiveshell.py', lineno=3373, function='run_ast_nodes', code_context=['                if await self.run_code(code, result, async_=asy):\\n'], index=0), FrameInfo(frame=<frame at 0x10371b0b0, file '/Users/marcotedeschini/PycharmProjects/PSO/venv/lib/python3.9/site-packages/IPython/core/interactiveshell.py', line 3194, code run_cell_async>, filename='/Users/marcotedeschini/PycharmProjects/PSO/venv/lib/python3.9/site-packages/IPython/core/interactiveshell.py', lineno=3194, function='run_cell_async', code_context=['                has_raised = await self.run_ast_nodes(code_ast.body, cell_name,\\n'], index=0), FrameInfo(frame=<frame at 0x1038827c0, file '/Users/marcotedeschini/PycharmProjects/PSO/venv/lib/python3.9/site-packages/IPython/core/async_helpers.py', line 129, code _pseudo_sync_runner>, filename='/Users/marcotedeschini/PycharmProjects/PSO/venv/lib/python3.9/site-packages/IPython/core/async_helpers.py', lineno=129, function='_pseudo_sync_runner', code_context=['        coro.send(None)\\n'], index=0), FrameInfo(frame=<frame at 0x10371a8f0, file '/Users/marcotedeschini/PycharmProjects/PSO/venv/lib/python3.9/site-packages/IPython/core/interactiveshell.py', line 2995, code _run_cell>, filename='/Users/marcotedeschini/PycharmProjects/PSO/venv/lib/python3.9/site-packages/IPython/core/interactiveshell.py', lineno=2995, function='_run_cell', code_context=['            return runner(coro)\\n'], index=0), FrameInfo(frame=<frame at 0x103717a40, file '/Users/marcotedeschini/PycharmProjects/PSO/venv/lib/python3.9/site-packages/IPython/core/interactiveshell.py', line 2940, code run_cell>, filename='/Users/marcotedeschini/PycharmProjects/PSO/venv/lib/python3.9/site-packages/IPython/core/interactiveshell.py', lineno=2940, function='run_cell', code_context=['            result = self._run_cell(\\n'], index=0), FrameInfo(frame=<frame at 0x103892580, file '/Users/marcotedeschini/PycharmProjects/PSO/venv/lib/python3.9/site-packages/ipykernel/zmqshell.py', line 528, code run_cell>, filename='/Users/marcotedeschini/PycharmProjects/PSO/venv/lib/python3.9/site-packages/ipykernel/zmqshell.py', lineno=528, function='run_cell', code_context=['        return super().run_cell(*args, **kwargs)\\n'], index=0), FrameInfo(frame=<frame at 0x103709f10, file '/Users/marcotedeschini/PycharmProjects/PSO/venv/lib/python3.9/site-packages/ipykernel/ipkernel.py', line 383, code do_execute>, filename='/Users/marcotedeschini/PycharmProjects/PSO/venv/lib/python3.9/site-packages/ipykernel/ipkernel.py', lineno=383, function='do_execute', code_context=['                    res = shell.run_cell(\\n'], index=0), FrameInfo(frame=<frame at 0x103716b20, file '/Users/marcotedeschini/PycharmProjects/PSO/venv/lib/python3.9/site-packages/ipykernel/kernelbase.py', line 730, code execute_request>, filename='/Users/marcotedeschini/PycharmProjects/PSO/venv/lib/python3.9/site-packages/ipykernel/kernelbase.py', lineno=730, function='execute_request', code_context=['            reply_content = await reply_content\\n'], index=0), FrameInfo(frame=<frame at 0x103715bc0, file '/Users/marcotedeschini/PycharmProjects/PSO/venv/lib/python3.9/site-packages/ipykernel/kernelbase.py', line 406, code dispatch_shell>, filename='/Users/marcotedeschini/PycharmProjects/PSO/venv/lib/python3.9/site-packages/ipykernel/kernelbase.py', lineno=406, function='dispatch_shell', code_context=['                    await result\\n'], index=0), FrameInfo(frame=<frame at 0x103873800, file '/Users/marcotedeschini/PycharmProjects/PSO/venv/lib/python3.9/site-packages/ipykernel/kernelbase.py', line 499, code process_one>, filename='/Users/marcotedeschini/PycharmProjects/PSO/venv/lib/python3.9/site-packages/ipykernel/kernelbase.py', lineno=499, function='process_one', code_context=['        await dispatch(*args)\\n'], index=0), FrameInfo(frame=<frame at 0x103872cf0, file '/Users/marcotedeschini/PycharmProjects/PSO/venv/lib/python3.9/site-packages/ipykernel/kernelbase.py', line 510, code dispatch_queue>, filename='/Users/marcotedeschini/PycharmProjects/PSO/venv/lib/python3.9/site-packages/ipykernel/kernelbase.py', lineno=510, function='dispatch_queue', code_context=['                await self.process_one()\\n'], index=0), FrameInfo(frame=<frame at 0x103716700, file '/Applications/Xcode.app/Contents/Developer/Library/Frameworks/Python3.framework/Versions/3.9/lib/python3.9/asyncio/events.py', line 80, code _run>, filename='/Applications/Xcode.app/Contents/Developer/Library/Frameworks/Python3.framework/Versions/3.9/lib/python3.9/asyncio/events.py', lineno=80, function='_run', code_context=['            self._context.run(self._callback, *self._args)\\n'], index=0), FrameInfo(frame=<frame at 0x103713980, file '/Applications/Xcode.app/Contents/Developer/Library/Frameworks/Python3.framework/Versions/3.9/lib/python3.9/asyncio/base_events.py', line 1890, code _run_once>, filename='/Applications/Xcode.app/Contents/Developer/Library/Frameworks/Python3.framework/Versions/3.9/lib/python3.9/asyncio/base_events.py', lineno=1890, function='_run_once', code_context=['                handle._run()\\n'], index=0), FrameInfo(frame=<frame at 0x103877040, file '/Applications/Xcode.app/Contents/Developer/Library/Frameworks/Python3.framework/Versions/3.9/lib/python3.9/asyncio/base_events.py', line 596, code run_forever>, filename='/Applications/Xcode.app/Contents/Developer/Library/Frameworks/Python3.framework/Versions/3.9/lib/python3.9/asyncio/base_events.py', lineno=596, function='run_forever', code_context=['                self._run_once()\\n'], index=0), FrameInfo(frame=<frame at 0x103871d60, file '/Users/marcotedeschini/PycharmProjects/PSO/venv/lib/python3.9/site-packages/tornado/platform/asyncio.py', line 215, code start>, filename='/Users/marcotedeschini/PycharmProjects/PSO/venv/lib/python3.9/site-packages/tornado/platform/asyncio.py', lineno=215, function='start', code_context=['            self.asyncio_loop.run_forever()\\n'], index=0), FrameInfo(frame=<frame at 0x103638c40, file '/Users/marcotedeschini/PycharmProjects/PSO/venv/lib/python3.9/site-packages/ipykernel/kernelapp.py', line 712, code start>, filename='/Users/marcotedeschini/PycharmProjects/PSO/venv/lib/python3.9/site-packages/ipykernel/kernelapp.py', lineno=712, function='start', code_context=['                self.io_loop.start()\\n'], index=0), FrameInfo(frame=<frame at 0x12f784a50, file '/Users/marcotedeschini/PycharmProjects/PSO/venv/lib/python3.9/site-packages/traitlets/config/application.py', line 982, code launch_instance>, filename='/Users/marcotedeschini/PycharmProjects/PSO/venv/lib/python3.9/site-packages/traitlets/config/application.py', lineno=982, function='launch_instance', code_context=['        app.start()\\n'], index=0), FrameInfo(frame=<frame at 0x100621e40, file '/Users/marcotedeschini/PycharmProjects/PSO/venv/lib/python3.9/site-packages/ipykernel_launcher.py', line 17, code <module>>, filename='/Users/marcotedeschini/PycharmProjects/PSO/venv/lib/python3.9/site-packages/ipykernel_launcher.py', lineno=17, function='<module>', code_context=['    app.launch_new_instance()\\n'], index=0), FrameInfo(frame=<frame at 0x13f71f0e0, file '/Applications/Xcode.app/Contents/Developer/Library/Frameworks/Python3.framework/Versions/3.9/lib/python3.9/runpy.py', line 87, code _run_code>, filename='/Applications/Xcode.app/Contents/Developer/Library/Frameworks/Python3.framework/Versions/3.9/lib/python3.9/runpy.py', lineno=87, function='_run_code', code_context=['    exec(code, run_globals)\\n'], index=0), FrameInfo(frame=<frame at 0x13f619f80, file '/Applications/Xcode.app/Contents/Developer/Library/Frameworks/Python3.framework/Versions/3.9/lib/python3.9/runpy.py', line 197, code _run_module_as_main>, filename='/Applications/Xcode.app/Contents/Developer/Library/Frameworks/Python3.framework/Versions/3.9/lib/python3.9/runpy.py', lineno=197, function='_run_module_as_main', code_context=['    return _run_code(code, main_globals, None,\\n'], index=0)]\n"
     ]
    },
    {
     "data": {
      "text/plain": "'helloworld1'"
     },
     "execution_count": 57,
     "metadata": {},
     "output_type": "execute_result"
    }
   ],
   "source": [
    "import inspect  # importazione dalla libreria standard il modulo inspect\n",
    "\n",
    "def mia_funzione(string):\n",
    "    a = 1\n",
    "\n",
    "    def mia_funzione_interna():\n",
    "        print(inspect.stack())  # stampo i frame inseriti nello stack fino a questo punto\n",
    "        return string + \"world\" + str(a)\n",
    "\n",
    "    return mia_funzione_interna()\n",
    "\n",
    "\n",
    "mia_funzione(\"hello\")"
   ],
   "metadata": {
    "collapsed": false
   }
  },
  {
   "cell_type": "markdown",
   "source": [],
   "metadata": {
    "collapsed": false
   }
  },
  {
   "cell_type": "markdown",
   "source": [
    "### Disassemblare il bytecode"
   ],
   "metadata": {
    "collapsed": false
   }
  },
  {
   "cell_type": "code",
   "execution_count": 50,
   "outputs": [
    {
     "name": "stdout",
     "output_type": "stream",
     "text": [
      "  1           0 LOAD_CONST               0 (1)\n",
      "              2 STORE_NAME               0 (a)\n",
      "\n",
      "  2           4 LOAD_CONST               1 (2)\n",
      "              6 STORE_NAME               1 (b)\n",
      "\n",
      "  3           8 LOAD_NAME                0 (a)\n",
      "             10 LOAD_NAME                1 (b)\n",
      "             12 BINARY_ADD\n",
      "             14 STORE_NAME               2 (c)\n",
      "             16 LOAD_CONST               2 (None)\n",
      "             18 RETURN_VALUE\n"
     ]
    }
   ],
   "source": [
    "import dis  # importazione del modulo standard di “disassemblaggio”\n",
    "s = \"\"\"a=1\n",
    "b=2\n",
    "c=a+b\"\"\"  \n",
    "c = compile(s, \"\", \"exec\")  # compilazione in bytecode della stringa “s”\n",
    "dis.dis(c)"
   ],
   "metadata": {
    "collapsed": false
   }
  },
  {
   "cell_type": "markdown",
   "source": [],
   "metadata": {
    "collapsed": false
   }
  },
  {
   "cell_type": "code",
   "execution_count": 51,
   "outputs": [
    {
     "data": {
      "text/plain": "['<0>',\n 'POP_TOP',\n 'ROT_TWO',\n 'ROT_THREE',\n 'DUP_TOP',\n 'DUP_TOP_TWO',\n 'ROT_FOUR',\n '<7>',\n '<8>',\n 'NOP',\n 'UNARY_POSITIVE',\n 'UNARY_NEGATIVE',\n 'UNARY_NOT',\n '<13>',\n '<14>',\n 'UNARY_INVERT',\n 'BINARY_MATRIX_MULTIPLY',\n 'INPLACE_MATRIX_MULTIPLY',\n '<18>',\n 'BINARY_POWER',\n 'BINARY_MULTIPLY',\n '<21>',\n 'BINARY_MODULO',\n 'BINARY_ADD',\n 'BINARY_SUBTRACT',\n 'BINARY_SUBSCR',\n 'BINARY_FLOOR_DIVIDE',\n 'BINARY_TRUE_DIVIDE',\n 'INPLACE_FLOOR_DIVIDE',\n 'INPLACE_TRUE_DIVIDE',\n '<30>',\n '<31>',\n '<32>',\n '<33>',\n '<34>',\n '<35>',\n '<36>',\n '<37>',\n '<38>',\n '<39>',\n '<40>',\n '<41>',\n '<42>',\n '<43>',\n '<44>',\n '<45>',\n '<46>',\n '<47>',\n 'RERAISE',\n 'WITH_EXCEPT_START',\n 'GET_AITER',\n 'GET_ANEXT',\n 'BEFORE_ASYNC_WITH',\n '<53>',\n 'END_ASYNC_FOR',\n 'INPLACE_ADD',\n 'INPLACE_SUBTRACT',\n 'INPLACE_MULTIPLY',\n '<58>',\n 'INPLACE_MODULO',\n 'STORE_SUBSCR',\n 'DELETE_SUBSCR',\n 'BINARY_LSHIFT',\n 'BINARY_RSHIFT',\n 'BINARY_AND',\n 'BINARY_XOR',\n 'BINARY_OR',\n 'INPLACE_POWER',\n 'GET_ITER',\n 'GET_YIELD_FROM_ITER',\n 'PRINT_EXPR',\n 'LOAD_BUILD_CLASS',\n 'YIELD_FROM',\n 'GET_AWAITABLE',\n 'LOAD_ASSERTION_ERROR',\n 'INPLACE_LSHIFT',\n 'INPLACE_RSHIFT',\n 'INPLACE_AND',\n 'INPLACE_XOR',\n 'INPLACE_OR',\n '<80>',\n '<81>',\n 'LIST_TO_TUPLE',\n 'RETURN_VALUE',\n 'IMPORT_STAR',\n 'SETUP_ANNOTATIONS',\n 'YIELD_VALUE',\n 'POP_BLOCK',\n '<88>',\n 'POP_EXCEPT',\n 'STORE_NAME',\n 'DELETE_NAME',\n 'UNPACK_SEQUENCE',\n 'FOR_ITER',\n 'UNPACK_EX',\n 'STORE_ATTR',\n 'DELETE_ATTR',\n 'STORE_GLOBAL',\n 'DELETE_GLOBAL',\n '<99>',\n 'LOAD_CONST',\n 'LOAD_NAME',\n 'BUILD_TUPLE',\n 'BUILD_LIST',\n 'BUILD_SET',\n 'BUILD_MAP',\n 'LOAD_ATTR',\n 'COMPARE_OP',\n 'IMPORT_NAME',\n 'IMPORT_FROM',\n 'JUMP_FORWARD',\n 'JUMP_IF_FALSE_OR_POP',\n 'JUMP_IF_TRUE_OR_POP',\n 'JUMP_ABSOLUTE',\n 'POP_JUMP_IF_FALSE',\n 'POP_JUMP_IF_TRUE',\n 'LOAD_GLOBAL',\n 'IS_OP',\n 'CONTAINS_OP',\n '<119>',\n '<120>',\n 'JUMP_IF_NOT_EXC_MATCH',\n 'SETUP_FINALLY',\n '<123>',\n 'LOAD_FAST',\n 'STORE_FAST',\n 'DELETE_FAST',\n '<127>',\n '<128>',\n '<129>',\n 'RAISE_VARARGS',\n 'CALL_FUNCTION',\n 'MAKE_FUNCTION',\n 'BUILD_SLICE',\n '<134>',\n 'LOAD_CLOSURE',\n 'LOAD_DEREF',\n 'STORE_DEREF',\n 'DELETE_DEREF',\n '<139>',\n '<140>',\n 'CALL_FUNCTION_KW',\n 'CALL_FUNCTION_EX',\n 'SETUP_WITH',\n 'EXTENDED_ARG',\n 'LIST_APPEND',\n 'SET_ADD',\n 'MAP_ADD',\n 'LOAD_CLASSDEREF',\n '<149>',\n '<150>',\n '<151>',\n '<152>',\n '<153>',\n 'SETUP_ASYNC_WITH',\n 'FORMAT_VALUE',\n 'BUILD_CONST_KEY_MAP',\n 'BUILD_STRING',\n '<158>',\n '<159>',\n 'LOAD_METHOD',\n 'CALL_METHOD',\n 'LIST_EXTEND',\n 'SET_UPDATE',\n 'DICT_MERGE',\n 'DICT_UPDATE',\n '<166>',\n '<167>',\n '<168>',\n '<169>',\n '<170>',\n '<171>',\n '<172>',\n '<173>',\n '<174>',\n '<175>',\n '<176>',\n '<177>',\n '<178>',\n '<179>',\n '<180>',\n '<181>',\n '<182>',\n '<183>',\n '<184>',\n '<185>',\n '<186>',\n '<187>',\n '<188>',\n '<189>',\n '<190>',\n '<191>',\n '<192>',\n '<193>',\n '<194>',\n '<195>',\n '<196>',\n '<197>',\n '<198>',\n '<199>',\n '<200>',\n '<201>',\n '<202>',\n '<203>',\n '<204>',\n '<205>',\n '<206>',\n '<207>',\n '<208>',\n '<209>',\n '<210>',\n '<211>',\n '<212>',\n '<213>',\n '<214>',\n '<215>',\n '<216>',\n '<217>',\n '<218>',\n '<219>',\n '<220>',\n '<221>',\n '<222>',\n '<223>',\n '<224>',\n '<225>',\n '<226>',\n '<227>',\n '<228>',\n '<229>',\n '<230>',\n '<231>',\n '<232>',\n '<233>',\n '<234>',\n '<235>',\n '<236>',\n '<237>',\n '<238>',\n '<239>',\n '<240>',\n '<241>',\n '<242>',\n '<243>',\n '<244>',\n '<245>',\n '<246>',\n '<247>',\n '<248>',\n '<249>',\n '<250>',\n '<251>',\n '<252>',\n '<253>',\n '<254>',\n '<255>']"
     },
     "execution_count": 51,
     "metadata": {},
     "output_type": "execute_result"
    }
   ],
   "source": [
    "dis.opname  # lista di tutte le istruzioni bytecode possibili"
   ],
   "metadata": {
    "collapsed": false
   }
  },
  {
   "cell_type": "code",
   "execution_count": 52,
   "outputs": [
    {
     "data": {
      "text/plain": "256"
     },
     "execution_count": 52,
     "metadata": {},
     "output_type": "execute_result"
    }
   ],
   "source": [
    "len(dis.opname)  # la lista ha una lunghezza di 256 elementi"
   ],
   "metadata": {
    "collapsed": false
   }
  },
  {
   "cell_type": "code",
   "execution_count": 53,
   "outputs": [
    {
     "data": {
      "text/plain": "b'd\\x00Z\\x00d\\x01Z\\x01e\\x00e\\x01\\x17\\x00Z\\x02d\\x02S\\x00'"
     },
     "execution_count": 53,
     "metadata": {},
     "output_type": "execute_result"
    }
   ],
   "source": [
    "c.co_code  # bytecode della stringa s (vista nell’esempio di codice precedente)"
   ],
   "metadata": {
    "collapsed": false
   }
  },
  {
   "cell_type": "code",
   "execution_count": 54,
   "outputs": [
    {
     "data": {
      "text/plain": "[100, 0, 90, 0, 100, 1, 90, 1, 101, 0, 101, 1, 23, 0, 90, 2, 100, 2, 83, 0]"
     },
     "execution_count": 54,
     "metadata": {},
     "output_type": "execute_result"
    }
   ],
   "source": [
    "[b for b in c.co_code]  # converto gli esadecimali in decimali"
   ],
   "metadata": {
    "collapsed": false
   }
  },
  {
   "cell_type": "code",
   "execution_count": 55,
   "outputs": [
    {
     "data": {
      "text/plain": "'LOAD_CONST'"
     },
     "execution_count": 55,
     "metadata": {},
     "output_type": "execute_result"
    }
   ],
   "source": [
    "dis.opname[100]  # passando i decimali alla lista ottengo la relativa istruzione"
   ],
   "metadata": {
    "collapsed": false
   }
  },
  {
   "cell_type": "code",
   "execution_count": 56,
   "outputs": [
    {
     "data": {
      "text/plain": "True"
     },
     "execution_count": 56,
     "metadata": {},
     "output_type": "execute_result"
    }
   ],
   "source": [
    "100 > dis.HAVE_ARGUMENT  # i valori maggiori di questa soglia hanno un argomento"
   ],
   "metadata": {
    "collapsed": false
   }
  },
  {
   "cell_type": "code",
   "execution_count": 56,
   "outputs": [],
   "source": [],
   "metadata": {
    "collapsed": false
   }
  }
 ],
 "metadata": {
  "kernelspec": {
   "display_name": "Python 3",
   "language": "python",
   "name": "python3"
  },
  "language_info": {
   "codemirror_mode": {
    "name": "ipython",
    "version": 2
   },
   "file_extension": ".py",
   "mimetype": "text/x-python",
   "name": "python",
   "nbconvert_exporter": "python",
   "pygments_lexer": "ipython2",
   "version": "2.7.6"
  }
 },
 "nbformat": 4,
 "nbformat_minor": 0
}

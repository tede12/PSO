{
 "cells": [
  {
   "cell_type": "markdown",
   "source": [
    "# Concorrenza e Parallelismo"
   ],
   "metadata": {
    "collapsed": false
   },
   "outputs": []
  },
  {
   "cell_type": "markdown",
   "source": [
    "import necessari"
   ],
   "metadata": {
    "collapsed": false
   }
  },
  {
   "cell_type": "code",
   "execution_count": 5,
   "outputs": [],
   "source": [
    "import time\n",
    "import threading\n",
    "import hashlib\n",
    "\n",
    "\n",
    "# import sys\n",
    "# sys.setswitchinterval(0.5)"
   ],
   "metadata": {
    "collapsed": false
   }
  },
  {
   "cell_type": "markdown",
   "source": [
    "### Effetti del GIL sui thread"
   ],
   "metadata": {
    "collapsed": false
   }
  },
  {
   "cell_type": "markdown",
   "source": [
    "Esercizio 1 - conto alla rovescia"
   ],
   "metadata": {
    "collapsed": false
   }
  },
  {
   "cell_type": "code",
   "execution_count": null,
   "outputs": [],
   "source": [
    "def conto_alla_rovescia(n):\n",
    "    while n > 0:\n",
    "        n -= 1"
   ],
   "metadata": {
    "collapsed": false
   }
  },
  {
   "cell_type": "code",
   "execution_count": 6,
   "outputs": [],
   "source": [
    "N = 100_000_000\n",
    "LISTA_NUM_THREAD = [1, 2, 4, 8]"
   ],
   "metadata": {
    "collapsed": false
   }
  },
  {
   "cell_type": "code",
   "execution_count": 11,
   "outputs": [],
   "source": [
    "def esegui_in_thread(num_thread, func, *args):\n",
    "    threads = [threading.Thread(target=func, args=args) for _ in range(num_thread)]\n",
    "    for t in threads:\n",
    "        t.start()\n",
    "    for t in threads:\n",
    "        t.join()"
   ],
   "metadata": {
    "collapsed": false
   }
  },
  {
   "cell_type": "code",
   "execution_count": 12,
   "outputs": [],
   "source": [
    "def calcola_tempi():\n",
    "    for num_thread in LISTA_NUM_THREAD:\n",
    "        n = N //num_thread\n",
    "        print(f'{num_thread=}; {n=}')\n",
    "        for _ in range(3):\n",
    "            inizio = time.time()\n",
    "            esegui_in_thread(num_thread, conto_alla_rovescia, n)\n",
    "            print(time.time() - inizio)"
   ],
   "metadata": {
    "collapsed": false
   }
  },
  {
   "cell_type": "code",
   "execution_count": 13,
   "outputs": [
    {
     "name": "stdout",
     "output_type": "stream",
     "text": [
      "num_thread=1; n=100000000\n",
      "2.669037103652954\n",
      "2.590924024581909\n",
      "2.5581510066986084\n",
      "num_thread=2; n=50000000\n",
      "2.623228073120117\n",
      "2.617216110229492\n",
      "2.6049060821533203\n",
      "num_thread=4; n=25000000\n",
      "2.6123921871185303\n",
      "2.595703125\n",
      "2.7128028869628906\n",
      "num_thread=8; n=12500000\n",
      "2.629438877105713\n",
      "2.744590997695923\n",
      "2.6475181579589844\n"
     ]
    }
   ],
   "source": [
    "calcola_tempi()"
   ],
   "metadata": {
    "collapsed": false
   }
  },
  {
   "cell_type": "markdown",
   "source": [],
   "metadata": {
    "collapsed": false
   }
  },
  {
   "cell_type": "markdown",
   "source": [
    "Esercizio 2 - hashlib"
   ],
   "metadata": {
    "collapsed": false
   }
  },
  {
   "cell_type": "code",
   "execution_count": 14,
   "outputs": [],
   "source": [
    "# SHA-256 hash di 8 messaggi da 128 MB\n",
    "def funzione_hash(messaggio):\n",
    "    return [hashlib.sha256(m).digest() for m in messaggio]\n",
    "\n",
    "\n",
    "def crea_threads(n, funzione):\n",
    "    threads = []\n",
    "    arg = [b'0' * ((2 ** 30) // 8) for _ in range(8 // n)]      # 2^30 bytes ('0' è 1 byte) = 1 GB\n",
    "    for i in range(n):\n",
    "        t = threading.Thread(target=funzione, args=(arg,))\n",
    "        threads.append(t)\n",
    "\n",
    "    start = time.perf_counter()\n",
    "    for t in threads:\n",
    "        t.start()\n",
    "    for t in threads:\n",
    "        t.join()\n",
    "\n",
    "    end = time.perf_counter() - start\n",
    "    # print(f\"Completato con {n} threads in {round(end, 5)} secondi\")\n",
    "    return end\n",
    "\n",
    "\n",
    "def esegui_media(num_media, num_threads, funzione):\n",
    "    media = 0.0\n",
    "    for i in range(num_media):\n",
    "        media += crea_threads(num_threads, funzione)\n",
    "    media /= num_media\n",
    "    print(f\"Media: {round(media, 5)} secondi - {num_threads} threads\")"
   ],
   "metadata": {
    "collapsed": false
   }
  },
  {
   "cell_type": "code",
   "execution_count": 15,
   "outputs": [
    {
     "name": "stdout",
     "output_type": "stream",
     "text": [
      "Inizio test\n",
      "Media: 0.5599 secondi - 1 threads\n",
      "Media: 0.23859 secondi - 2 threads\n",
      "Media: 0.12699 secondi - 4 threads\n",
      "Media: 0.08187 secondi - 8 threads\n",
      "Tempo totale: 12.23848 secondi\n"
     ]
    }
   ],
   "source": [
    "print(\"Inizio test\")\n",
    "inizio = time.perf_counter()\n",
    "\n",
    "esegui_media(num_media=10, num_threads=1, funzione=funzione_hash)\n",
    "esegui_media(num_media=10, num_threads=2, funzione=funzione_hash)\n",
    "esegui_media(num_media=10, num_threads=4, funzione=funzione_hash)\n",
    "esegui_media(num_media=10, num_threads=8, funzione=funzione_hash)\n",
    "\n",
    "print(f\"Tempo totale: {round(time.perf_counter() - inizio, 5)} secondi\")"
   ],
   "metadata": {
    "collapsed": false
   }
  },
  {
   "cell_type": "markdown",
   "source": [],
   "metadata": {
    "collapsed": false
   }
  },
  {
   "cell_type": "markdown",
   "source": [
    "### Rimozione del GIL"
   ],
   "metadata": {
    "collapsed": false
   },
   "outputs": []
  },
  {
   "cell_type": "markdown",
   "source": [
    "Esercizio 3 - incrementa somma"
   ],
   "metadata": {
    "collapsed": false
   }
  },
  {
   "cell_type": "code",
   "execution_count": 16,
   "outputs": [],
   "source": [
    "somma = 0  # definisco e inizializzo somma a 0\n",
    "\n",
    "def incrementa_somma():\n",
    "    global somma  # richiamo nel blocco corrente la variabile somma definita globalmente\n",
    "    for _ in range(100_000_000):  # eseguo 1000 volte un ciclo che incrementa somma di 1\n",
    "        somma += 1"
   ],
   "metadata": {
    "collapsed": false
   }
  },
  {
   "cell_type": "code",
   "execution_count": 20,
   "outputs": [
    {
     "name": "stdout",
     "output_type": "stream",
     "text": [
      "La somma deve essere 200_000_000, il risultato ottenuto è: 261124606\n"
     ]
    }
   ],
   "source": [
    "t1 = threading.Thread(target=incrementa_somma)  # creo un thread che esegue la funzione incrementa_somma\n",
    "t2 = threading.Thread(target=incrementa_somma)  # creo un secondo thread che esegue la funzione incrementa_somma\n",
    "\n",
    "for i in [t1, t2]:  # creo un ciclo che itera su t1 e t2\n",
    "    i.start()  # avvio i thread\n",
    "for i in [t1, t2]:  # creo un ciclo che itera su t1 e t2\n",
    "    i.join()  # aspetto che i thread terminino\n",
    "\n",
    "print(f\"La somma deve essere 200_000_000, il risultato ottenuto è: {somma}\")"
   ],
   "metadata": {
    "collapsed": false
   }
  },
  {
   "cell_type": "code",
   "execution_count": null,
   "outputs": [],
   "source": [],
   "metadata": {
    "collapsed": false
   }
  }
 ],
 "metadata": {
  "kernelspec": {
   "display_name": "Python 3",
   "language": "python",
   "name": "python3"
  },
  "language_info": {
   "codemirror_mode": {
    "name": "ipython",
    "version": 2
   },
   "file_extension": ".py",
   "mimetype": "text/x-python",
   "name": "python",
   "nbconvert_exporter": "python",
   "pygments_lexer": "ipython2",
   "version": "2.7.6"
  }
 },
 "nbformat": 4,
 "nbformat_minor": 0
}

{
 "cells": [
  {
   "cell_type": "markdown",
   "source": [
    "# Threading"
   ],
   "metadata": {
    "collapsed": false
   }
  },
  {
   "cell_type": "markdown",
   "source": [
    "### Esecuzione di una funzione in un thread"
   ],
   "metadata": {
    "collapsed": false
   }
  },
  {
   "cell_type": "code",
   "execution_count": 1,
   "outputs": [],
   "source": [
    "import threading\n",
    "\n",
    "\n",
    "def mia_funzione(arg1, arg2):\n",
    "    #\n",
    "    pass"
   ],
   "metadata": {
    "collapsed": false
   }
  },
  {
   "cell_type": "code",
   "execution_count": 2,
   "outputs": [],
   "source": [
    "t1 = threading.Thread(target=mia_funzione, args=(1,), kwargs={'arg2': 2})"
   ],
   "metadata": {
    "collapsed": false
   }
  },
  {
   "cell_type": "code",
   "execution_count": 3,
   "outputs": [
    {
     "data": {
      "text/plain": "<Thread(Thread-5, initial)>"
     },
     "execution_count": 3,
     "metadata": {},
     "output_type": "execute_result"
    }
   ],
   "source": [
    "t1"
   ],
   "metadata": {
    "collapsed": false
   }
  },
  {
   "cell_type": "markdown",
   "source": [],
   "metadata": {
    "collapsed": false
   }
  },
  {
   "cell_type": "code",
   "execution_count": 4,
   "outputs": [],
   "source": [
    "t1.name = 'thread 1'  # modifica il nome al thread (default: Thread-n). In alternativa si può anche usare t1.setName(str)."
   ],
   "metadata": {
    "collapsed": false
   }
  },
  {
   "cell_type": "code",
   "execution_count": 5,
   "outputs": [],
   "source": [
    "t1.daemon = True  # se True, il thread termina quando termina il main thread (default: False). In alternativa si può anche usare t1.setDaemon(bool)."
   ],
   "metadata": {
    "collapsed": false
   }
  },
  {
   "cell_type": "code",
   "execution_count": 6,
   "outputs": [],
   "source": [
    "t1.start()  # avvia il thread"
   ],
   "metadata": {
    "collapsed": false
   }
  },
  {
   "cell_type": "code",
   "execution_count": 7,
   "outputs": [
    {
     "data": {
      "text/plain": "<Thread(thread 1, stopped daemon 6235795456)>"
     },
     "execution_count": 7,
     "metadata": {},
     "output_type": "execute_result"
    }
   ],
   "source": [
    "t1"
   ],
   "metadata": {
    "collapsed": false
   }
  },
  {
   "cell_type": "code",
   "execution_count": 8,
   "outputs": [
    {
     "data": {
      "text/plain": "6235795456"
     },
     "execution_count": 8,
     "metadata": {},
     "output_type": "execute_result"
    }
   ],
   "source": [
    "t1.ident  # identificatore del thread in Python"
   ],
   "metadata": {
    "collapsed": false
   }
  },
  {
   "cell_type": "code",
   "execution_count": 9,
   "outputs": [
    {
     "data": {
      "text/plain": "4132521"
     },
     "execution_count": 9,
     "metadata": {},
     "output_type": "execute_result"
    }
   ],
   "source": [
    "t1.native_id  # identificatore del thread nel sistema operativo"
   ],
   "metadata": {
    "collapsed": false
   }
  },
  {
   "cell_type": "code",
   "execution_count": 10,
   "outputs": [
    {
     "data": {
      "text/plain": "True"
     },
     "execution_count": 10,
     "metadata": {},
     "output_type": "execute_result"
    }
   ],
   "source": [
    "t1.isDaemon()  # True se il thread è un daemon"
   ],
   "metadata": {
    "collapsed": false
   }
  },
  {
   "cell_type": "code",
   "execution_count": 11,
   "outputs": [
    {
     "data": {
      "text/plain": "False"
     },
     "execution_count": 11,
     "metadata": {},
     "output_type": "execute_result"
    }
   ],
   "source": [
    "t1.is_alive()  # True se il thread è in esecuzione"
   ],
   "metadata": {
    "collapsed": false
   }
  },
  {
   "cell_type": "code",
   "execution_count": 12,
   "outputs": [],
   "source": [
    "t1.join()  # aspetta che il thread termini"
   ],
   "metadata": {
    "collapsed": false
   }
  },
  {
   "cell_type": "markdown",
   "source": [],
   "metadata": {
    "collapsed": false
   }
  },
  {
   "cell_type": "markdown",
   "source": [
    "### Strumenti per la gestione dei thread"
   ],
   "metadata": {
    "collapsed": false
   }
  },
  {
   "cell_type": "code",
   "execution_count": 13,
   "outputs": [],
   "source": [
    "def funzione_infinita():\n",
    "    while True:\n",
    "        pass\n",
    "\n",
    "\n",
    "for i in range(3):  # genero tre thread (totale di 4 con il MainThread)\n",
    "    threading.Thread(target=funzione_infinita).start()"
   ],
   "metadata": {
    "collapsed": false
   }
  },
  {
   "cell_type": "code",
   "execution_count": 14,
   "outputs": [
    {
     "data": {
      "text/plain": "11"
     },
     "execution_count": 14,
     "metadata": {},
     "output_type": "execute_result"
    }
   ],
   "source": [
    "threading.active_count()  # ritorna il numero di thread attivi"
   ],
   "metadata": {
    "collapsed": false
   }
  },
  {
   "cell_type": "code",
   "execution_count": 15,
   "outputs": [
    {
     "data": {
      "text/plain": "[<_MainThread(MainThread, started 8522999040)>,\n <Thread(IOPub, started daemon 6116290560)>,\n <Heartbeat(Heartbeat, started daemon 6133116928)>,\n <Thread(Thread-3, started daemon 6151090176)>,\n <Thread(Thread-4, started daemon 6167916544)>,\n <ControlThread(Control, started daemon 6184742912)>,\n <HistorySavingThread(IPythonHistorySavingThread, started 6201569280)>,\n <ParentPollerUnix(Thread-2, started daemon 6218969088)>,\n <Thread(Thread-6, started 6235795456)>,\n <Thread(Thread-7, started 6252621824)>,\n <Thread(Thread-8, started 6269448192)>]"
     },
     "execution_count": 15,
     "metadata": {},
     "output_type": "execute_result"
    }
   ],
   "source": [
    "threading.enumerate()  # ritorna una lista di tutti i thread attivi"
   ],
   "metadata": {
    "collapsed": false
   }
  },
  {
   "cell_type": "code",
   "execution_count": 16,
   "outputs": [
    {
     "data": {
      "text/plain": "<_MainThread(MainThread, started 8522999040)>"
     },
     "execution_count": 16,
     "metadata": {},
     "output_type": "execute_result"
    }
   ],
   "source": [
    "threading.current_thread()  # ritorna l’oggetto del thread corrente"
   ],
   "metadata": {
    "collapsed": false
   }
  },
  {
   "cell_type": "code",
   "execution_count": 17,
   "outputs": [
    {
     "data": {
      "text/plain": "4132435"
     },
     "execution_count": 17,
     "metadata": {},
     "output_type": "execute_result"
    }
   ],
   "source": [
    "threading.get_native_id()  # ritorna l’id del thread corrente"
   ],
   "metadata": {
    "collapsed": false
   }
  },
  {
   "cell_type": "code",
   "execution_count": 18,
   "outputs": [
    {
     "data": {
      "text/plain": "8522999040"
     },
     "execution_count": 18,
     "metadata": {},
     "output_type": "execute_result"
    }
   ],
   "source": [
    "threading.get_ident()  # ritorna l’id del thread corrente"
   ],
   "metadata": {
    "collapsed": false
   }
  },
  {
   "cell_type": "markdown",
   "source": [
    "Exception Hook"
   ],
   "metadata": {
    "collapsed": false
   }
  },
  {
   "cell_type": "code",
   "execution_count": 19,
   "outputs": [
    {
     "name": "stdout",
     "output_type": "stream",
     "text": [
      "Thread Terminato: Eccezione generata\n"
     ]
    }
   ],
   "source": [
    "def genera_errore():  # funzione che genera un errore\n",
    "    raise Exception(\"Eccezione generata\")\n",
    "\n",
    "\n",
    "def hook_di_eccezione(args):  # funzione che gestisce l’eccezione (callback)\n",
    "    print(f'Thread Terminato: {args.exc_value}')\n",
    "\n",
    "\n",
    "threading.excepthook = hook_di_eccezione\n",
    "threading.Thread(target=genera_errore).start()"
   ],
   "metadata": {
    "collapsed": false
   }
  },
  {
   "cell_type": "markdown",
   "source": [],
   "metadata": {
    "collapsed": false
   }
  },
  {
   "cell_type": "markdown",
   "source": [
    "### Funzioni bloccanti"
   ],
   "metadata": {
    "collapsed": false
   }
  },
  {
   "cell_type": "code",
   "execution_count": 20,
   "outputs": [],
   "source": [
    "import time\n",
    "\n",
    "time.sleep(0.1)  # funzione che sospende l’esecuzione del thread per 0.1 secondi"
   ],
   "metadata": {
    "collapsed": false
   }
  },
  {
   "cell_type": "markdown",
   "source": [],
   "metadata": {
    "collapsed": false
   }
  },
  {
   "cell_type": "markdown",
   "source": [
    "## Primitive di sincronizzazione"
   ],
   "metadata": {
    "collapsed": false
   }
  },
  {
   "cell_type": "markdown",
   "source": [
    "## Lock"
   ],
   "metadata": {
    "collapsed": false
   }
  },
  {
   "cell_type": "code",
   "execution_count": 21,
   "outputs": [],
   "source": [
    "import threading\n",
    "\n",
    "lock = threading.Lock()  # creo un oggetto di tipo Lock\n",
    "lock.acquire()  # acquisisco il lock\n",
    "# ... eseguo il codice che richiede la mutua esclusione\n",
    "lock.release()  # rilascio il lock"
   ],
   "metadata": {
    "collapsed": false
   }
  },
  {
   "cell_type": "markdown",
   "source": [
    "Alternative di uso di acquire"
   ],
   "metadata": {
    "collapsed": false
   }
  },
  {
   "cell_type": "code",
   "execution_count": 22,
   "outputs": [],
   "source": [
    "if 1 != 1:  # non eseguo il codice per evitare di bloccare il MainThread senza rilasciarlo\n",
    "    lock.acquire(blocking=False)  # se il lock è già acquisito, non aspetta e ritorna False\n",
    "    # oppure\n",
    "    lock.acquire(timeout=10)  # se il lock è già acquisito, aspetta al massimo 10 secondi e ritorna False\n",
    "    # oppure\n",
    "    with lock:  # acquisisce il lock e lo rilascia automaticamente alla fine del blocco with\n",
    "        # ... eseguo il codice che richiede la mutua esclusione\n",
    "        pass\n",
    "\n",
    "    lock.release()  # rilascio"
   ],
   "metadata": {
    "collapsed": false
   }
  },
  {
   "cell_type": "markdown",
   "source": [
    "Esercizio - mutex lock"
   ],
   "metadata": {
    "collapsed": false
   }
  },
  {
   "cell_type": "code",
   "execution_count": 23,
   "outputs": [],
   "source": [
    "lock = threading.Lock()\n",
    "\n",
    "\n",
    "def task():\n",
    "    with lock:  # acquisisce il lock e lo rilascia automaticamente alla fine del blocco with\n",
    "        time.sleep(1)  # funzione che sospende l’esecuzione del thread per 1 secondo\n",
    "        print(f'Il {threading.current_thread().name} ha acquisito la lock. Attendo 1 secondo...')"
   ],
   "metadata": {
    "collapsed": false
   }
  },
  {
   "cell_type": "code",
   "execution_count": 24,
   "outputs": [],
   "source": [
    "def main():\n",
    "    threads = []\n",
    "    for i in range(10):  # creo 10 thread che eseguono la funzione task\n",
    "        threads.append(threading.Thread(target=task))\n",
    "\n",
    "    for t in threads:\n",
    "        t.start()  # avvio i thread\n",
    "    for t in threads:\n",
    "        t.join()  # aspetto che i thread terminino"
   ],
   "metadata": {
    "collapsed": false
   }
  },
  {
   "cell_type": "code",
   "execution_count": 25,
   "outputs": [],
   "source": [
    "def task():\n",
    "    time.sleep(1)  # funzione che sospende l’esecuzione del thread per 1 secondo\n",
    "    print(f'Il {threading.current_thread().name} ha acquisito la lock. Attendo 1 secondo...')"
   ],
   "metadata": {
    "collapsed": false
   }
  },
  {
   "cell_type": "markdown",
   "source": [],
   "metadata": {
    "collapsed": false
   }
  },
  {
   "cell_type": "markdown",
   "source": [
    "## RLock"
   ],
   "metadata": {
    "collapsed": false
   },
   "execution_count": null,
   "outputs": []
  },
  {
   "cell_type": "markdown",
   "source": [
    "Esercizio - mutex  RLock"
   ],
   "metadata": {
    "collapsed": false
   }
  },
  {
   "cell_type": "code",
   "execution_count": 26,
   "outputs": [
    {
     "name": "stdout",
     "output_type": "stream",
     "text": [
      "Il Thread-10 ha acquisito la lock. Attendo 1 secondo...\n",
      "Thread-10 ha acquisito la seconda lock.\n",
      "Il Thread-11 ha acquisito la lock. Attendo 1 secondo...\n",
      "Thread-11 ha acquisito la seconda lock.\n",
      "Il Thread-12 ha acquisito la lock. Attendo 1 secondo...\n",
      "Thread-12 ha acquisito la seconda lock.\n",
      "Il Thread-13 ha acquisito la lock. Attendo 1 secondo...\n",
      "Thread-13 ha acquisito la seconda lock.\n",
      "Il Thread-14 ha acquisito la lock. Attendo 1 secondo...\n",
      "Thread-14 ha acquisito la seconda lock.\n",
      "Il Thread-15 ha acquisito la lock. Attendo 1 secondo...\n",
      "Thread-15 ha acquisito la seconda lock.\n",
      "Il Thread-16 ha acquisito la lock. Attendo 1 secondo...\n",
      "Thread-16 ha acquisito la seconda lock.\n",
      "Il Thread-17 ha acquisito la lock. Attendo 1 secondo...\n",
      "Thread-17 ha acquisito la seconda lock.\n",
      "Il Thread-18 ha acquisito la lock. Attendo 1 secondo...\n",
      "Thread-18 ha acquisito la seconda lock.\n",
      "Il Thread-19 ha acquisito la lock. Attendo 1 secondo...\n",
      "Thread-19 ha acquisito la seconda lock.\n"
     ]
    }
   ],
   "source": [
    "def task2(lock):\n",
    "    with lock:\n",
    "        print(f'{threading.current_thread().name} ha acquisito la seconda lock.')\n",
    "\n",
    "\n",
    "def task(lock):\n",
    "    with lock:  # acquisisce il lock e lo rilascia automaticamente alla fine del blocco with\n",
    "        time.sleep(1)  # funzione che sospende l’esecuzione del thread per 1 secondo\n",
    "        print(f'Il {threading.current_thread().name} ha acquisito la lock. Attendo 1 secondo...')\n",
    "        task2(lock)\n",
    "\n",
    "\n",
    "lock = threading.RLock()  # creo un oggetto di tipo RLock\n",
    "threads = []\n",
    "for i in range(10):  # creo 10 thread che eseguono la funzione task\n",
    "    threads.append(threading.Thread(target=task, args=(lock,)))\n",
    "\n",
    "for t in threads:\n",
    "    t.start()  # avvio i thread\n",
    "for t in threads:\n",
    "    t.join()  # aspetto che i thread terminino\n"
   ],
   "metadata": {
    "collapsed": false
   }
  },
  {
   "cell_type": "markdown",
   "source": [],
   "metadata": {
    "collapsed": false
   }
  },
  {
   "cell_type": "markdown",
   "source": [
    "## Condizione"
   ],
   "metadata": {
    "collapsed": false
   }
  },
  {
   "cell_type": "markdown",
   "source": [
    "Esercizio - mutex condition"
   ],
   "metadata": {
    "collapsed": false
   }
  },
  {
   "cell_type": "code",
   "execution_count": 27,
   "outputs": [],
   "source": [
    "if 1 != 1:\n",
    "    condition = threading.Condition()  # creo un oggetto Condition\n",
    "    condition = threading.Condition(\n",
    "        lock=threading.Lock())  # creo un oggetto Condition con un oggetto Lock come parametro\n",
    "\n",
    "    condition.acquire()  # acquisisco il lock\n",
    "    condition.wait()  # sospende l’esecuzione del thread fino a quando non viene invocato il metodo notify() o notify_all()\n",
    "    condition.release()  # rilascio il lock\n",
    "    # oppure\n",
    "    with condition:  # acquisisce il lock e lo rilascia automaticamente alla fine del blocco with\n",
    "        condition.wait()  # sospende l’esecuzione del thread fino a quando non viene invocato il metodo notify() o notify_all()\n",
    "        # ... eseguo il codice che richiede la mutua esclusione\n",
    "        pass"
   ],
   "metadata": {
    "collapsed": false
   }
  },
  {
   "cell_type": "markdown",
   "source": [],
   "metadata": {
    "collapsed": false
   }
  },
  {
   "cell_type": "markdown",
   "source": [
    "Esercizio - mutex condition"
   ],
   "metadata": {
    "collapsed": false
   },
   "outputs": [
    {
     "ename": "SyntaxError",
     "evalue": "invalid syntax (2162431612.py, line 1)",
     "output_type": "error",
     "traceback": [
      "\u001B[0;36m  Cell \u001B[0;32mIn [58], line 1\u001B[0;36m\u001B[0m\n\u001B[0;31m    Esercizio - mutex condition\u001B[0m\n\u001B[0m                      ^\u001B[0m\n\u001B[0;31mSyntaxError\u001B[0m\u001B[0;31m:\u001B[0m invalid syntax\n"
     ]
    }
   ],
   "execution_count": 58
  },
  {
   "cell_type": "code",
   "execution_count": 28,
   "outputs": [
    {
     "name": "stdout",
     "output_type": "stream",
     "text": [
      "MainThread in attesa di notifica...\n",
      "Invio la notifica dal thread...\n",
      "Risultato ottenuto: [1]\n"
     ]
    }
   ],
   "source": [
    "def task(condizione, risultato):\n",
    "    time.sleep(1)  # sospendo l’esecuzione del thread per 1 secondo\n",
    "    risultato.append(1)  # assegno il valore 1 alla variabile risultato\n",
    "    print('Invio la notifica dal thread...')\n",
    "    with condizione:\n",
    "        condizione.notify()\n",
    "\n",
    "\n",
    "condizione = threading.Condition()  # creo un oggetto Condition\n",
    "risultato = []\n",
    "\n",
    "print('MainThread in attesa di notifica...')\n",
    "with condizione:  # acquisisce il lock e lo rilascia automaticamente alla fine del blocco\n",
    "    threading.Thread(target=task, args=(condizione, risultato)).start()\n",
    "    condizione.wait()  # sospende l’esecuzione del thread fino a quando non viene invocato il metodo notify() o notify_all()\n",
    "\n",
    "print(f'Risultato ottenuto: {risultato}')  # stampo il risultato ottenuto"
   ],
   "metadata": {
    "collapsed": false
   }
  },
  {
   "cell_type": "markdown",
   "source": [],
   "metadata": {
    "collapsed": false
   }
  },
  {
   "cell_type": "markdown",
   "source": [
    "## Semaforo"
   ],
   "metadata": {
    "collapsed": false
   }
  },
  {
   "cell_type": "code",
   "execution_count": 29,
   "outputs": [],
   "source": [
    "semaphore = threading.Semaphore(10)  # 10 threads possono accedere alla sezione critica\n",
    "semaphore.acquire()  # decrementa il contatore\n",
    "# ... eseguo il codice che richiede la mutua esclusione\n",
    "semaphore.release()  # incrementa il contatore"
   ],
   "metadata": {
    "collapsed": false
   }
  },
  {
   "cell_type": "code",
   "execution_count": 30,
   "outputs": [],
   "source": [
    "if 1 != 1:\n",
    "    semaphore.acquire(blocking=False)  # decrementa il contatore se il contatore è > 0, altrimenti ritorna False\n",
    "    # oppure\n",
    "    semaphore.acquire(\n",
    "        timeout=10)  # decrementa il contatore se il contatore è > 0, altrimenti ritorna False dopo 10 secondi\n",
    "    # oppure\n",
    "    with semaphore:  # decrementa il contatore e lo incrementa alla fine del blocco with\n",
    "        # ... eseguo il codice che richiede la mutua esclusione\n",
    "        pass"
   ],
   "metadata": {
    "collapsed": false
   }
  },
  {
   "cell_type": "markdown",
   "source": [
    "Esercizio - mutex semaphore"
   ],
   "metadata": {
    "collapsed": false
   }
  },
  {
   "cell_type": "code",
   "execution_count": 31,
   "outputs": [
    {
     "name": "stdout",
     "output_type": "stream",
     "text": [
      "Il Thread-22 ha acquisito il semaforo. Attendo 1 secondo...\n",
      "Il Thread-21 ha acquisito il semaforo. Attendo 1 secondo...\n",
      "Il Thread-24 ha acquisito il semaforo. Attendo 1 secondo...Il Thread-23 ha acquisito il semaforo. Attendo 1 secondo...\n",
      "\n",
      "Il Thread-26 ha acquisito il semaforo. Attendo 1 secondo...\n",
      "Il Thread-25 ha acquisito il semaforo. Attendo 1 secondo...\n",
      "Il Thread-27 ha acquisito il semaforo. Attendo 1 secondo...\n",
      "Il Thread-28 ha acquisito il semaforo. Attendo 1 secondo...\n",
      "Il Thread-30 ha acquisito il semaforo. Attendo 1 secondo...Il Thread-29 ha acquisito il semaforo. Attendo 1 secondo...\n",
      "\n"
     ]
    }
   ],
   "source": [
    "semaforo = threading.Semaphore(2)\n",
    "\n",
    "\n",
    "def task():\n",
    "    with semaforo:  # decrementa il contatore e lo incrementa alla fine del blocco with\n",
    "        time.sleep(1)  # funzione che sospende l’esecuzione del thread per 1 secondo\n",
    "        print(f'Il {threading.current_thread().name} ha acquisito il semaforo. Attendo 1 secondo...')\n",
    "\n",
    "\n",
    "threads = []\n",
    "for i in range(10):  # creo 10 thread che eseguono la funzione task\n",
    "    threads.append(threading.Thread(target=task))\n",
    "\n",
    "for t in threads:\n",
    "    t.start()  # avvio i thread\n",
    "for t in threads:\n",
    "    t.join()  # aspetto che i thread terminino"
   ],
   "metadata": {
    "collapsed": false
   }
  },
  {
   "cell_type": "markdown",
   "source": [],
   "metadata": {
    "collapsed": false
   }
  },
  {
   "cell_type": "markdown",
   "source": [
    "## Evento"
   ],
   "metadata": {
    "collapsed": false
   }
  },
  {
   "cell_type": "code",
   "execution_count": 32,
   "outputs": [],
   "source": [
    "evento = threading.Event()  # creo un oggetto di tipo Event\n",
    "evento.isSet()  # ritorna True se l’evento è impostato, False altrimenti\n",
    "evento.set()  # imposto l’evento\n",
    "evento.clear()  # resetto l’evento\n",
    "# evento.wait()  # sospende l’esecuzione del thread fino a quando l’evento non viene impostato\n",
    "# evento.wait(timeout=10)  # sospende l’esecuzione del thread fino a quando l’evento non viene impostato o scade il timeout"
   ],
   "metadata": {
    "collapsed": false
   }
  },
  {
   "cell_type": "markdown",
   "source": [
    "Esercizio - mutex event"
   ],
   "metadata": {
    "collapsed": false
   },
   "execution_count": 32
  },
  {
   "cell_type": "code",
   "execution_count": 33,
   "outputs": [
    {
     "name": "stdout",
     "output_type": "stream",
     "text": [
      "Il Thread-31 attende l\\’evento...Il Thread-32 attende l\\’evento...\n",
      "Il Thread-33 attende l\\’evento...\n",
      "Il Thread-34 attende l\\’evento...\n",
      "\n",
      "Il Thread-35 attende l\\’evento...\n",
      "Il Thread-36 attende l\\’evento...\n",
      "Il Thread-37 attende l\\’evento...\n",
      "Il Thread-38 attende l\\’evento...\n",
      "Il Thread-39 attende l\\’evento...\n",
      "Il Thread-40 attende l\\’evento...\n",
      "L’evento è stato impostato. Il Thread-32 continua l’esecuzione...L’evento è stato impostato. Il Thread-34 continua l’esecuzione...\n",
      "\n",
      "L’evento è stato impostato. Il Thread-39 continua l’esecuzione...\n",
      "L’evento è stato impostato. Il Thread-37 continua l’esecuzione...\n",
      "L’evento è stato impostato. Il Thread-31 continua l’esecuzione...\n",
      "L’evento è stato impostato. Il Thread-36 continua l’esecuzione...\n",
      "L’evento è stato impostato. Il Thread-33 continua l’esecuzione...\n",
      "L’evento è stato impostato. Il Thread-35 continua l’esecuzione...\n",
      "L’evento è stato impostato. Il Thread-38 continua l’esecuzione...\n",
      "L’evento è stato impostato. Il Thread-40 continua l’esecuzione...\n"
     ]
    }
   ],
   "source": [
    "evento = threading.Event()  # creo un oggetto di tipo Event\n",
    "\n",
    "\n",
    "def task():\n",
    "    print(f'Il {threading.current_thread().name} attende l\\’evento...')\n",
    "    evento.wait()  # sospende l’esecuzione del thread fino a quando l’evento non viene impostato\n",
    "    print(f\"L’evento è stato impostato. Il {threading.current_thread().name} continua l’esecuzione...\")\n",
    "\n",
    "\n",
    "threads = []\n",
    "for i in range(10):  # creo 10 thread che eseguono la funzione task\n",
    "    threads.append(threading.Thread(target=task))\n",
    "\n",
    "for t in threads:\n",
    "    t.start()  # avvio i thread\n",
    "\n",
    "time.sleep(2)  # sospendo l’esecuzione del thread principale per 2 secondi\n",
    "evento.set()  # imposto l’evento\n",
    "\n",
    "for t in threads:\n",
    "    t.join()  # aspetto che i thread terminino"
   ],
   "metadata": {
    "collapsed": false
   }
  },
  {
   "cell_type": "markdown",
   "source": [],
   "metadata": {
    "collapsed": false
   }
  },
  {
   "cell_type": "markdown",
   "source": [
    "## Timer"
   ],
   "metadata": {
    "collapsed": false
   }
  },
  {
   "cell_type": "code",
   "execution_count": null,
   "outputs": [],
   "source": [
    "# creo un oggetto di tipo Timer che esegue la funzione print dopo 2 secondi\n",
    "timer = threading.Timer(interval=2, function=print, args=('Ciao Mondo!',))\n",
    "timer.start()  # avvio il timer\n",
    "timer.cancel()  # annulla il timer"
   ],
   "metadata": {
    "collapsed": false
   }
  },
  {
   "cell_type": "markdown",
   "source": [
    "Esercizio - timer"
   ],
   "metadata": {
    "collapsed": false
   }
  },
  {
   "cell_type": "code",
   "execution_count": 34,
   "outputs": [
    {
     "name": "stdout",
     "output_type": "stream",
     "text": [
      "Il timer è stato avviato. Attendo 3 secondi prima della sua esecuzione...\n",
      "Ciao Mondo!\n"
     ]
    }
   ],
   "source": [
    "def task(messaggio):\n",
    "    print(messaggio)\n",
    "\n",
    "\n",
    "# creo un oggetto di tipo Timer che esegue la funzione task dopo 3 secondi\n",
    "timer = threading.Timer(0.3, task, args=('Ciao Mondo!',))\n",
    "\n",
    "timer.start()  # avvio il timer\n",
    "print('Il timer è stato avviato. Attendo 0.3 secondi prima della sua esecuzione...')\n",
    "timer.join()"
   ],
   "metadata": {
    "collapsed": false
   }
  },
  {
   "cell_type": "markdown",
   "source": [],
   "metadata": {
    "collapsed": false
   }
  },
  {
   "cell_type": "markdown",
   "source": [
    "## Barriera"
   ],
   "metadata": {
    "collapsed": false
   }
  },
  {
   "cell_type": "code",
   "execution_count": 35,
   "outputs": [],
   "source": [
    "if 1 != 1:\n",
    "    barriera = threading.Barrier(10)  # creo un oggetto di tipo Barrier che attende massimo 10 thread\n",
    "    # oppure\n",
    "    barriera = threading.Barrier(10, action=funzione_di_callback)  # creo un oggetto di tipo Barrier che attende massimo 10 thread ed esegue la funzione funzione_di_callback quando tutti i thread hanno raggiunto la barriera\n",
    "    # oppure\n",
    "    barriera = threading.Barrier(10, timeout=5)  # creo un oggetto di tipo Barrier che attende massimo 10 thread e scade dopo 5 secondi\n",
    "\n",
    "    barriera.wait()  # sospende l’esecuzione del thread fino a quando tutti i thread non hanno raggiunto la barriera"
   ],
   "metadata": {
    "collapsed": false
   }
  },
  {
   "cell_type": "markdown",
   "source": [
    "Esercizio - mutex barrier"
   ],
   "metadata": {
    "collapsed": false
   }
  },
  {
   "cell_type": "code",
   "execution_count": 36,
   "outputs": [
    {
     "name": "stdout",
     "output_type": "stream",
     "text": [
      "Il Thread-42 ha raggiunto la barriera.\n",
      "Il Thread-45 ha raggiunto la barriera.\n",
      "Il Thread-44 ha raggiunto la barriera.\n",
      "Il Thread-43 ha raggiunto la barriera.\n",
      "Il Thread-47 ha raggiunto la barriera.\n",
      "Il Thread-46 ha raggiunto la barriera.\n",
      "Il Thread-46 ha superato la barriera.\n",
      "Il Thread-44 ha superato la barriera.\n",
      "Il Thread-43 ha superato la barriera.\n",
      "Il Thread-45 ha superato la barriera.\n",
      "Il Thread-47 ha superato la barriera.\n",
      "Il Thread-42 ha superato la barriera.\n"
     ]
    }
   ],
   "source": [
    "import random\n",
    "\n",
    "\n",
    "def task(barriera):\n",
    "    time.sleep(random.randint(1, 3)/10)  # sospendo l’esecuzione del thread per un tempo casuale tra 0.1 e 0.3 secondi\n",
    "    print(f'Il {threading.current_thread().name} ha raggiunto la barriera.')\n",
    "    barriera.wait()  # sospende l’esecuzione del thread fino a quando tutti i thread non hanno raggiunto la barriera\n",
    "    print(f'Il {threading.current_thread().name} ha superato la barriera.')\n",
    "\n",
    "\n",
    "barriera = threading.Barrier(6)  # creo un oggetto di tipo Barrier che attende massimo 6 thread\n",
    "threads = []\n",
    "for i in range(6):  # creo 6 thread che eseguono la funzione task\n",
    "    threads.append(threading.Thread(target=task, daemon=True, args=(barriera,)))\n",
    "\n",
    "for t in threads:\n",
    "    t.start()  # avvio i thread\n",
    "\n",
    "for t in threads:\n",
    "    t.join()  # aspetto che i thread terminino"
   ],
   "metadata": {
    "collapsed": false
   }
  },
  {
   "cell_type": "code",
   "execution_count": null,
   "outputs": [],
   "source": [],
   "metadata": {
    "collapsed": false
   }
  }
 ],
 "metadata": {
  "kernelspec": {
   "display_name": "Python 3",
   "language": "python",
   "name": "python3"
  },
  "language_info": {
   "codemirror_mode": {
    "name": "ipython",
    "version": 2
   },
   "file_extension": ".py",
   "mimetype": "text/x-python",
   "name": "python",
   "nbconvert_exporter": "python",
   "pygments_lexer": "ipython2",
   "version": "2.7.6"
  }
 },
 "nbformat": 4,
 "nbformat_minor": 0
}
